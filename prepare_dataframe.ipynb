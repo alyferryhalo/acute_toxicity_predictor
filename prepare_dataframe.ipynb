{
 "cells": [
  {
   "cell_type": "code",
   "execution_count": 1,
   "id": "3036b126",
   "metadata": {},
   "outputs": [],
   "source": [
    "import pandas as pd\n",
    "from pandas import array\n",
    "from pandas import DataFrame\n",
    "\n",
    "import numpy as np\n",
    "from numpy import zeros, array\n",
    "\n",
    "from rdkit import Chem, DataStructs\n",
    "from rdkit.Chem import Draw, Descriptors, AllChem, PandasTools\n",
    "import rdkit.Chem.AllChem as AllChem"
   ]
  },
  {
   "cell_type": "code",
   "execution_count": 2,
   "id": "7c6d1ace",
   "metadata": {},
   "outputs": [
    {
     "name": "stderr",
     "output_type": "stream",
     "text": [
      "[22:27:52] Explicit valence for atom # 3 Cl, 2, is greater than permitted\n",
      "[22:27:52] ERROR: Could not sanitize molecule ending on line 21572\n",
      "[22:27:52] ERROR: Explicit valence for atom # 3 Cl, 2, is greater than permitted\n",
      "[22:27:53] Explicit valence for atom # 2 Si, 8, is greater than permitted\n",
      "[22:27:53] ERROR: Could not sanitize molecule ending on line 346021\n",
      "[22:27:53] ERROR: Explicit valence for atom # 2 Si, 8, is greater than permitted\n",
      "[22:27:53] Explicit valence for atom # 3 Cl, 2, is greater than permitted\n",
      "[22:27:53] ERROR: Could not sanitize molecule ending on line 446665\n",
      "[22:27:53] ERROR: Explicit valence for atom # 3 Cl, 2, is greater than permitted\n",
      "[22:27:53] Explicit valence for atom # 1 Cl, 2, is greater than permitted\n",
      "[22:27:53] ERROR: Could not sanitize molecule ending on line 619150\n",
      "[22:27:53] ERROR: Explicit valence for atom # 1 Cl, 2, is greater than permitted\n",
      "[22:27:54] WARNING: not removing hydrogen atom without neighbors\n",
      "[22:27:54] Explicit valence for atom # 2 Si, 8, is greater than permitted\n",
      "[22:27:54] ERROR: Could not sanitize molecule ending on line 810094\n",
      "[22:27:54] ERROR: Explicit valence for atom # 2 Si, 8, is greater than permitted\n",
      "[22:27:54] Explicit valence for atom # 3 Mg, 4, is greater than permitted\n",
      "[22:27:54] ERROR: Could not sanitize molecule ending on line 893439\n",
      "[22:27:54] ERROR: Explicit valence for atom # 3 Mg, 4, is greater than permitted\n"
     ]
    }
   ],
   "source": [
    "SDFFile = 'tox21_10k_data_all.sdf'\n",
    "BRDLigs = PandasTools.LoadSDF(SDFFile)"
   ]
  },
  {
   "cell_type": "code",
   "execution_count": 3,
   "id": "f2319a7e",
   "metadata": {},
   "outputs": [
    {
     "name": "stdout",
     "output_type": "stream",
     "text": [
      "11758\n"
     ]
    }
   ],
   "source": [
    "labels = BRDLigs['SR-HSE'].to_list()\n",
    "print(len(labels))"
   ]
  },
  {
   "cell_type": "code",
   "execution_count": 4,
   "id": "4533f0c2",
   "metadata": {},
   "outputs": [
    {
     "name": "stderr",
     "output_type": "stream",
     "text": [
      "[22:27:54] Explicit valence for atom # 3 Cl, 2, is greater than permitted\n",
      "[22:27:54] ERROR: Could not sanitize molecule ending on line 21572\n",
      "[22:27:54] ERROR: Explicit valence for atom # 3 Cl, 2, is greater than permitted\n",
      "[22:27:55] Explicit valence for atom # 2 Si, 8, is greater than permitted\n",
      "[22:27:55] ERROR: Could not sanitize molecule ending on line 346021\n",
      "[22:27:55] ERROR: Explicit valence for atom # 2 Si, 8, is greater than permitted\n",
      "[22:27:55] Explicit valence for atom # 3 Cl, 2, is greater than permitted\n",
      "[22:27:55] ERROR: Could not sanitize molecule ending on line 446665\n",
      "[22:27:55] ERROR: Explicit valence for atom # 3 Cl, 2, is greater than permitted\n",
      "[22:27:56] Explicit valence for atom # 1 Cl, 2, is greater than permitted\n",
      "[22:27:56] ERROR: Could not sanitize molecule ending on line 619150\n",
      "[22:27:56] ERROR: Explicit valence for atom # 1 Cl, 2, is greater than permitted\n",
      "[22:27:56] WARNING: not removing hydrogen atom without neighbors\n"
     ]
    },
    {
     "name": "stdout",
     "output_type": "stream",
     "text": [
      "11758\n"
     ]
    },
    {
     "name": "stderr",
     "output_type": "stream",
     "text": [
      "[22:27:56] Explicit valence for atom # 2 Si, 8, is greater than permitted\n",
      "[22:27:56] ERROR: Could not sanitize molecule ending on line 810094\n",
      "[22:27:56] ERROR: Explicit valence for atom # 2 Si, 8, is greater than permitted\n",
      "[22:27:56] Explicit valence for atom # 3 Mg, 4, is greater than permitted\n",
      "[22:27:56] ERROR: Could not sanitize molecule ending on line 893439\n",
      "[22:27:56] ERROR: Explicit valence for atom # 3 Mg, 4, is greater than permitted\n"
     ]
    }
   ],
   "source": [
    "mols = [mol for mol in Chem.SDMolSupplier(\"tox21_10k_data_all.sdf\") if mol is not None]\n",
    "print(len(mols))"
   ]
  },
  {
   "cell_type": "code",
   "execution_count": 5,
   "id": "a5c4870b",
   "metadata": {},
   "outputs": [
    {
     "name": "stdout",
     "output_type": "stream",
     "text": [
      "11758\n"
     ]
    }
   ],
   "source": [
    "smiles = []\n",
    "\n",
    "for mol in mols:\n",
    "    smiles.append(Chem.MolToSmiles(mol))\n",
    "    \n",
    "print(len(smiles))"
   ]
  },
  {
   "cell_type": "code",
   "execution_count": 6,
   "id": "e164b3dc",
   "metadata": {},
   "outputs": [],
   "source": [
    "data = pd.DataFrame({'smiles': smiles, 'labels': labels})"
   ]
  },
  {
   "cell_type": "code",
   "execution_count": 7,
   "id": "37fae875",
   "metadata": {},
   "outputs": [
    {
     "data": {
      "text/html": [
       "<div>\n",
       "<style scoped>\n",
       "    .dataframe tbody tr th:only-of-type {\n",
       "        vertical-align: middle;\n",
       "    }\n",
       "\n",
       "    .dataframe tbody tr th {\n",
       "        vertical-align: top;\n",
       "    }\n",
       "\n",
       "    .dataframe thead th {\n",
       "        text-align: right;\n",
       "    }\n",
       "</style>\n",
       "<table border=\"1\" class=\"dataframe\">\n",
       "  <thead>\n",
       "    <tr style=\"text-align: right;\">\n",
       "      <th></th>\n",
       "      <th>smiles</th>\n",
       "      <th>labels</th>\n",
       "    </tr>\n",
       "  </thead>\n",
       "  <tbody>\n",
       "    <tr>\n",
       "      <th>0</th>\n",
       "      <td>C[n+]1c2cc(N)ccc2cc2ccc(N)cc21.Nc1ccc2cc3ccc(N...</td>\n",
       "      <td>0</td>\n",
       "    </tr>\n",
       "    <tr>\n",
       "      <th>1</th>\n",
       "      <td>O=C([O-])c1ccccc1-c1c2cc(Br)c(=O)c(Br)c-2oc2c(...</td>\n",
       "      <td>0</td>\n",
       "    </tr>\n",
       "    <tr>\n",
       "      <th>2</th>\n",
       "      <td>CO[C@H]1CC(O[C@H]2C[C@H]([C@H]3O[C@](C)(O)[C@H...</td>\n",
       "      <td>0</td>\n",
       "    </tr>\n",
       "    <tr>\n",
       "      <th>3</th>\n",
       "      <td>CN(C)c1ccc(C(=C2C=CC(=[N+](C)C)C=C2)c2ccccc2)c...</td>\n",
       "      <td>1</td>\n",
       "    </tr>\n",
       "    <tr>\n",
       "      <th>4</th>\n",
       "      <td>CC(=O)O.CCNC(=O)[C@@H]1CCCN1C(=O)[C@H](CCCNC(=...</td>\n",
       "      <td>NaN</td>\n",
       "    </tr>\n",
       "    <tr>\n",
       "      <th>...</th>\n",
       "      <td>...</td>\n",
       "      <td>...</td>\n",
       "    </tr>\n",
       "    <tr>\n",
       "      <th>11753</th>\n",
       "      <td>CCCc1cc(=O)[nH]c(=S)[nH]1</td>\n",
       "      <td>0</td>\n",
       "    </tr>\n",
       "    <tr>\n",
       "      <th>11754</th>\n",
       "      <td>S=C1NCCN1</td>\n",
       "      <td>0</td>\n",
       "    </tr>\n",
       "    <tr>\n",
       "      <th>11755</th>\n",
       "      <td>S=C1NCCN1</td>\n",
       "      <td>0</td>\n",
       "    </tr>\n",
       "    <tr>\n",
       "      <th>11756</th>\n",
       "      <td>CCOP(=S)(OCC)Oc1ccc([N+](=O)[O-])cc1</td>\n",
       "      <td>0</td>\n",
       "    </tr>\n",
       "    <tr>\n",
       "      <th>11757</th>\n",
       "      <td>CCC(COC(=O)CCS)(COC(=O)CCS)COC(=O)CCS</td>\n",
       "      <td>0</td>\n",
       "    </tr>\n",
       "  </tbody>\n",
       "</table>\n",
       "<p>11758 rows × 2 columns</p>\n",
       "</div>"
      ],
      "text/plain": [
       "                                                  smiles labels\n",
       "0      C[n+]1c2cc(N)ccc2cc2ccc(N)cc21.Nc1ccc2cc3ccc(N...      0\n",
       "1      O=C([O-])c1ccccc1-c1c2cc(Br)c(=O)c(Br)c-2oc2c(...      0\n",
       "2      CO[C@H]1CC(O[C@H]2C[C@H]([C@H]3O[C@](C)(O)[C@H...      0\n",
       "3      CN(C)c1ccc(C(=C2C=CC(=[N+](C)C)C=C2)c2ccccc2)c...      1\n",
       "4      CC(=O)O.CCNC(=O)[C@@H]1CCCN1C(=O)[C@H](CCCNC(=...    NaN\n",
       "...                                                  ...    ...\n",
       "11753                          CCCc1cc(=O)[nH]c(=S)[nH]1      0\n",
       "11754                                          S=C1NCCN1      0\n",
       "11755                                          S=C1NCCN1      0\n",
       "11756               CCOP(=S)(OCC)Oc1ccc([N+](=O)[O-])cc1      0\n",
       "11757              CCC(COC(=O)CCS)(COC(=O)CCS)COC(=O)CCS      0\n",
       "\n",
       "[11758 rows x 2 columns]"
      ]
     },
     "execution_count": 7,
     "metadata": {},
     "output_type": "execute_result"
    }
   ],
   "source": [
    "data"
   ]
  },
  {
   "cell_type": "code",
   "execution_count": 8,
   "id": "a2429f17",
   "metadata": {},
   "outputs": [],
   "source": [
    "data = data.drop_duplicates(subset='smiles')"
   ]
  },
  {
   "cell_type": "code",
   "execution_count": 9,
   "id": "d771bf2f",
   "metadata": {},
   "outputs": [
    {
     "data": {
      "text/html": [
       "<div>\n",
       "<style scoped>\n",
       "    .dataframe tbody tr th:only-of-type {\n",
       "        vertical-align: middle;\n",
       "    }\n",
       "\n",
       "    .dataframe tbody tr th {\n",
       "        vertical-align: top;\n",
       "    }\n",
       "\n",
       "    .dataframe thead th {\n",
       "        text-align: right;\n",
       "    }\n",
       "</style>\n",
       "<table border=\"1\" class=\"dataframe\">\n",
       "  <thead>\n",
       "    <tr style=\"text-align: right;\">\n",
       "      <th></th>\n",
       "      <th>smiles</th>\n",
       "      <th>labels</th>\n",
       "    </tr>\n",
       "  </thead>\n",
       "  <tbody>\n",
       "    <tr>\n",
       "      <th>0</th>\n",
       "      <td>C[n+]1c2cc(N)ccc2cc2ccc(N)cc21.Nc1ccc2cc3ccc(N...</td>\n",
       "      <td>0</td>\n",
       "    </tr>\n",
       "    <tr>\n",
       "      <th>1</th>\n",
       "      <td>O=C([O-])c1ccccc1-c1c2cc(Br)c(=O)c(Br)c-2oc2c(...</td>\n",
       "      <td>0</td>\n",
       "    </tr>\n",
       "    <tr>\n",
       "      <th>2</th>\n",
       "      <td>CO[C@H]1CC(O[C@H]2C[C@H]([C@H]3O[C@](C)(O)[C@H...</td>\n",
       "      <td>0</td>\n",
       "    </tr>\n",
       "    <tr>\n",
       "      <th>3</th>\n",
       "      <td>CN(C)c1ccc(C(=C2C=CC(=[N+](C)C)C=C2)c2ccccc2)c...</td>\n",
       "      <td>1</td>\n",
       "    </tr>\n",
       "    <tr>\n",
       "      <th>4</th>\n",
       "      <td>CC(=O)O.CCNC(=O)[C@@H]1CCCN1C(=O)[C@H](CCCNC(=...</td>\n",
       "      <td>NaN</td>\n",
       "    </tr>\n",
       "    <tr>\n",
       "      <th>...</th>\n",
       "      <td>...</td>\n",
       "      <td>...</td>\n",
       "    </tr>\n",
       "    <tr>\n",
       "      <th>11749</th>\n",
       "      <td>C1CCC(SSC2CCCCC2)CC1</td>\n",
       "      <td>0</td>\n",
       "    </tr>\n",
       "    <tr>\n",
       "      <th>11750</th>\n",
       "      <td>NC(=S)c1c(Cl)cccc1Cl</td>\n",
       "      <td>0</td>\n",
       "    </tr>\n",
       "    <tr>\n",
       "      <th>11752</th>\n",
       "      <td>S=C=S</td>\n",
       "      <td>0</td>\n",
       "    </tr>\n",
       "    <tr>\n",
       "      <th>11754</th>\n",
       "      <td>S=C1NCCN1</td>\n",
       "      <td>0</td>\n",
       "    </tr>\n",
       "    <tr>\n",
       "      <th>11757</th>\n",
       "      <td>CCC(COC(=O)CCS)(COC(=O)CCS)COC(=O)CCS</td>\n",
       "      <td>0</td>\n",
       "    </tr>\n",
       "  </tbody>\n",
       "</table>\n",
       "<p>8038 rows × 2 columns</p>\n",
       "</div>"
      ],
      "text/plain": [
       "                                                  smiles labels\n",
       "0      C[n+]1c2cc(N)ccc2cc2ccc(N)cc21.Nc1ccc2cc3ccc(N...      0\n",
       "1      O=C([O-])c1ccccc1-c1c2cc(Br)c(=O)c(Br)c-2oc2c(...      0\n",
       "2      CO[C@H]1CC(O[C@H]2C[C@H]([C@H]3O[C@](C)(O)[C@H...      0\n",
       "3      CN(C)c1ccc(C(=C2C=CC(=[N+](C)C)C=C2)c2ccccc2)c...      1\n",
       "4      CC(=O)O.CCNC(=O)[C@@H]1CCCN1C(=O)[C@H](CCCNC(=...    NaN\n",
       "...                                                  ...    ...\n",
       "11749                               C1CCC(SSC2CCCCC2)CC1      0\n",
       "11750                               NC(=S)c1c(Cl)cccc1Cl      0\n",
       "11752                                              S=C=S      0\n",
       "11754                                          S=C1NCCN1      0\n",
       "11757              CCC(COC(=O)CCS)(COC(=O)CCS)COC(=O)CCS      0\n",
       "\n",
       "[8038 rows x 2 columns]"
      ]
     },
     "execution_count": 9,
     "metadata": {},
     "output_type": "execute_result"
    }
   ],
   "source": [
    "data"
   ]
  }
 ],
 "metadata": {
  "kernelspec": {
   "display_name": "Python 3 (ipykernel)",
   "language": "python",
   "name": "python3"
  },
  "language_info": {
   "codemirror_mode": {
    "name": "ipython",
    "version": 3
   },
   "file_extension": ".py",
   "mimetype": "text/x-python",
   "name": "python",
   "nbconvert_exporter": "python",
   "pygments_lexer": "ipython3",
   "version": "3.10.4"
  }
 },
 "nbformat": 4,
 "nbformat_minor": 5
}
